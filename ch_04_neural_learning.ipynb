{
 "cells": [
  {
   "cell_type": "code",
   "execution_count": 54,
   "metadata": {},
   "outputs": [],
   "source": [
    "input = 100\n",
    "weight = 0.1\n",
    "goal_prediction = 0.8\n",
    "alpha = 0.0001"
   ]
  },
  {
   "cell_type": "code",
   "execution_count": 55,
   "metadata": {},
   "outputs": [
    {
     "name": "stdout",
     "output_type": "stream",
     "text": [
      " 0 ::: Prediction: 10.000000 || Delta: 9.200000 || Error: 84.640000\n",
      " 1 ::: Prediction: 0.800000 || Delta: 0.000000 || Error: 0.000000\n",
      " 2 ::: Prediction: 0.800000 || Delta: 0.000000 || Error: 0.000000\n",
      " 3 ::: Prediction: 0.800000 || Delta: 0.000000 || Error: 0.000000\n",
      " 4 ::: Prediction: 0.800000 || Delta: 0.000000 || Error: 0.000000\n",
      " 5 ::: Prediction: 0.800000 || Delta: 0.000000 || Error: 0.000000\n",
      " 6 ::: Prediction: 0.800000 || Delta: 0.000000 || Error: 0.000000\n",
      " 7 ::: Prediction: 0.800000 || Delta: 0.000000 || Error: 0.000000\n",
      " 8 ::: Prediction: 0.800000 || Delta: 0.000000 || Error: 0.000000\n",
      " 9 ::: Prediction: 0.800000 || Delta: 0.000000 || Error: 0.000000\n",
      "10 ::: Prediction: 0.800000 || Delta: 0.000000 || Error: 0.000000\n",
      "11 ::: Prediction: 0.800000 || Delta: 0.000000 || Error: 0.000000\n",
      "12 ::: Prediction: 0.800000 || Delta: 0.000000 || Error: 0.000000\n",
      "13 ::: Prediction: 0.800000 || Delta: 0.000000 || Error: 0.000000\n",
      "14 ::: Prediction: 0.800000 || Delta: 0.000000 || Error: 0.000000\n",
      "15 ::: Prediction: 0.800000 || Delta: 0.000000 || Error: 0.000000\n",
      "16 ::: Prediction: 0.800000 || Delta: 0.000000 || Error: 0.000000\n",
      "17 ::: Prediction: 0.800000 || Delta: 0.000000 || Error: 0.000000\n",
      "18 ::: Prediction: 0.800000 || Delta: 0.000000 || Error: 0.000000\n",
      "19 ::: Prediction: 0.800000 || Delta: 0.000000 || Error: 0.000000\n",
      "20 ::: Prediction: 0.800000 || Delta: 0.000000 || Error: 0.000000\n",
      "21 ::: Prediction: 0.800000 || Delta: 0.000000 || Error: 0.000000\n",
      "22 ::: Prediction: 0.800000 || Delta: 0.000000 || Error: 0.000000\n",
      "23 ::: Prediction: 0.800000 || Delta: 0.000000 || Error: 0.000000\n",
      "24 ::: Prediction: 0.800000 || Delta: 0.000000 || Error: 0.000000\n",
      "25 ::: Prediction: 0.800000 || Delta: 0.000000 || Error: 0.000000\n",
      "26 ::: Prediction: 0.800000 || Delta: 0.000000 || Error: 0.000000\n",
      "27 ::: Prediction: 0.800000 || Delta: 0.000000 || Error: 0.000000\n",
      "28 ::: Prediction: 0.800000 || Delta: 0.000000 || Error: 0.000000\n",
      "29 ::: Prediction: 0.800000 || Delta: 0.000000 || Error: 0.000000\n"
     ]
    }
   ],
   "source": [
    "for iteration in range(30):\n",
    "    pred = input * weight\n",
    "    delta = (pred - goal_prediction)\n",
    "    error = delta ** 2\n",
    "    delta_weight = delta * input\n",
    "    weight -= (delta_weight * alpha)\n",
    "    print (\"{:2d} ::: Prediction: {:3f} || Delta: {:3f} || Error: {:8f}\".format(iteration, pred, delta, error));"
   ]
  }
 ],
 "metadata": {
  "kernelspec": {
   "display_name": "Python 3",
   "language": "python",
   "name": "python3"
  },
  "language_info": {
   "codemirror_mode": {
    "name": "ipython",
    "version": 3
   },
   "file_extension": ".py",
   "mimetype": "text/x-python",
   "name": "python",
   "nbconvert_exporter": "python",
   "pygments_lexer": "ipython3",
   "version": "3.6.1"
  }
 },
 "nbformat": 4,
 "nbformat_minor": 2
}
