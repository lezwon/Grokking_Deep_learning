{
 "cells": [
  {
   "cell_type": "code",
   "execution_count": 2,
   "metadata": {},
   "outputs": [],
   "source": [
    "import numpy as np"
   ]
  },
  {
   "cell_type": "code",
   "execution_count": 149,
   "metadata": {},
   "outputs": [],
   "source": [
    "input_size = 3 \n",
    "hidden_size = 4 \n",
    "output_size = 1 \n",
    "\n",
    "#input data\n",
    "data = np.array([[1,0,1],\n",
    "                [0,1,1],\n",
    "                [0,0,1],\n",
    "                [1,1,1]\n",
    "                ])\n",
    "#goal\n",
    "result = np.array([[1,1,0,0]])\n",
    "\n",
    "#weights\n",
    "weights_0_1 = np.random.random((input_size,hidden_size))\n",
    "weights_1_2 = np.random.random((hidden_size,output_size))"
   ]
  },
  {
   "cell_type": "code",
   "execution_count": 140,
   "metadata": {},
   "outputs": [
    {
     "data": {
      "text/plain": [
       "array([[1]])"
      ]
     },
     "execution_count": 140,
     "metadata": {},
     "output_type": "execute_result"
    }
   ],
   "source": []
  },
  {
   "cell_type": "code",
   "execution_count": 48,
   "metadata": {},
   "outputs": [],
   "source": [
    "def relu(input):\n",
    "    return (input > 0) * input\n",
    "\n",
    "def relu2deriv(layer):\n",
    "    return (layer > 0)"
   ]
  },
  {
   "cell_type": "code",
   "execution_count": 27,
   "metadata": {},
   "outputs": [],
   "source": [
    "input_layer = data[0:1] #input\n",
    "hidden_layer = input_layer.dot(weights_0_1) #middle layer\n",
    "hidden_layer = relu(hidden_layer) #relu aplied\n",
    "output_layer = hidden_layer.dot(weights_1_2) #output layer"
   ]
  },
  {
   "cell_type": "code",
   "execution_count": 150,
   "metadata": {},
   "outputs": [],
   "source": [
    "delta_output = output_layer - result[0:1] #delta\n",
    "delta_hidden = delta_output * weights_1_2 # middle layer delta\n"
   ]
  },
  {
   "cell_type": "code",
   "execution_count": 130,
   "metadata": {},
   "outputs": [],
   "source": [
    "delta_weight_output = delta_output * hidden_layer #weight delta output layer\n",
    "delta_weight_hidden = (delta_hidden * relu2deriv(hidden_layer).T) * input_layer #weight delta hidden layer"
   ]
  },
  {
   "cell_type": "code",
   "execution_count": 134,
   "metadata": {},
   "outputs": [
    {
     "data": {
      "text/plain": [
       "array([[ 1.26989307,  1.26853907,  0.49868466,  0.11658437],\n",
       "       [ 0.        ,  0.        ,  0.        ,  0.        ],\n",
       "       [ 1.26989307,  1.26853907,  0.49868466,  0.11658437]])"
      ]
     },
     "execution_count": 134,
     "metadata": {},
     "output_type": "execute_result"
    }
   ],
   "source": [
    "delta_weight_hidden.T"
   ]
  },
  {
   "cell_type": "code",
   "execution_count": 126,
   "metadata": {},
   "outputs": [],
   "source": [
    "alpha = 0.01 # alpha\n",
    "#adjust weights\n",
    "weights_1_2 -= delta_weight_output.T * alpha\n",
    "weights_0_1 -= delta_weight_hidden.T * alpha"
   ]
  },
  {
   "cell_type": "code",
   "execution_count": 156,
   "metadata": {},
   "outputs": [],
   "source": [
    "weights_0_1 = np.random.random((input_size,hidden_size))\n",
    "weights_1_2 = np.random.random((hidden_size,output_size))"
   ]
  },
  {
   "cell_type": "code",
   "execution_count": 158,
   "metadata": {},
   "outputs": [],
   "source": [
    "#neural network\n",
    "def neural_network(input_layer):\n",
    "    hidden_layer = input_layer.dot(weights_0_1)\n",
    "    hidden_layer = relu(hidden_layer)\n",
    "    return hidden_layer.dot(weights_1_2)"
   ]
  },
  {
   "cell_type": "code",
   "execution_count": null,
   "metadata": {},
   "outputs": [],
   "source": [
    "#run in loop for all inputs\n",
    "alpha = 0.01\n",
    "for x in range(1000):\n",
    "    error = 0\n",
    "    for i in range(len(data)):\n",
    "        input_data = data[i:i+1]\n",
    "        result_data = result[i:i+1]\n",
    "        \n",
    "        delta_output = neural_network(input_data)\n",
    "        error += np.absolute(delta_output)\n",
    "        delta_hidden = delta_output * weights_1_2\n",
    "        delta_weight_output = delta_output * hidden_layer\n",
    "        delta_weight_hidden = (delta_hidden * relu2deriv(hidden_layer).T) * input_layer\n",
    "        weights_1_2 -= delta_weight_output.T * alpha\n",
    "        weights_0_1 -= delta_weight_hidden.T * alpha\n",
    "        print(error)"
   ]
  }
 ],
 "metadata": {
  "kernelspec": {
   "display_name": "Python 3",
   "language": "python",
   "name": "python3"
  },
  "language_info": {
   "codemirror_mode": {
    "name": "ipython",
    "version": 3
   },
   "file_extension": ".py",
   "mimetype": "text/x-python",
   "name": "python",
   "nbconvert_exporter": "python",
   "pygments_lexer": "ipython3",
   "version": "3.6.1"
  }
 },
 "nbformat": 4,
 "nbformat_minor": 2
}
