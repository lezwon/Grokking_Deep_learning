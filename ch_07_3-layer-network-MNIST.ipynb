{
 "cells": [
  {
   "cell_type": "code",
   "execution_count": null,
   "metadata": {},
   "outputs": [],
   "source": [
    "import numpy as np\n",
    "from mnist import MNIST"
   ]
  },
  {
   "cell_type": "code",
   "execution_count": null,
   "metadata": {},
   "outputs": [],
   "source": [
    "mndata = MNIST('.\\mnist')"
   ]
  },
  {
   "cell_type": "code",
   "execution_count": 3,
   "metadata": {},
   "outputs": [],
   "source": [
    "images, labels = mndata.load_training()"
   ]
  },
  {
   "cell_type": "code",
   "execution_count": 4,
   "metadata": {},
   "outputs": [],
   "source": [
    "images = np.array(images)\n",
    "labels = np.array(labels)"
   ]
  },
  {
   "cell_type": "code",
   "execution_count": 5,
   "metadata": {},
   "outputs": [],
   "source": [
    "input_size = 784 \n",
    "hidden_size = 40\n",
    "output_size = 10\n",
    "iterations = 300"
   ]
  },
  {
   "cell_type": "code",
   "execution_count": 6,
   "metadata": {},
   "outputs": [],
   "source": [
    "def relu(input):\n",
    "    return (input > 0) * input\n",
    "\n",
    "def relu2deriv(layer):\n",
    "    return (layer > 0)\n",
    "\n",
    "def one_hot_encoder(labels):\n",
    "    output = np.zeros((len(labels), 10))\n",
    "    for idx, label in enumerate(labels):\n",
    "        output[idx][label] = 1\n",
    "    return output\n",
    "\n",
    "def normalize(inputs):\n",
    "    return np.array(inputs)/255"
   ]
  },
  {
   "cell_type": "code",
   "execution_count": 7,
   "metadata": {},
   "outputs": [],
   "source": [
    "images = normalize(images)\n",
    "labels = one_hot_encoder(labels)"
   ]
  },
  {
   "cell_type": "code",
   "execution_count": 121,
   "metadata": {},
   "outputs": [],
   "source": [
    "weights_0_1 = 0.2 * np.random.random((input_size,hidden_size)) - 0.1\n",
    "weights_1_2 = 0.2 * np.random.random((hidden_size,output_size)) - 0.1"
   ]
  },
  {
   "cell_type": "code",
   "execution_count": 10,
   "metadata": {},
   "outputs": [],
   "source": [
    "input_data = images[0:1]\n",
    "result_data = labels[0:1]"
   ]
  },
  {
   "cell_type": "code",
   "execution_count": 118,
   "metadata": {},
   "outputs": [],
   "source": [
    "input_layer =  input_data\n",
    "hidden_layer = input_layer.dot(weights_0_1)\n",
    "output_layer = hidden_layer.dot(weights_1_2)\n"
   ]
  },
  {
   "cell_type": "code",
   "execution_count": 119,
   "metadata": {},
   "outputs": [],
   "source": [
    "delta_output = output_layer - result_data\n",
    "delta_hidden = delta_output.dot(weights_1_2.T)"
   ]
  },
  {
   "cell_type": "code",
   "execution_count": 120,
   "metadata": {},
   "outputs": [
    {
     "data": {
      "text/plain": [
       "array([[ 0.01759314,  0.04467707, -0.00450304, -0.01026846,  0.00271271,\n",
       "        -0.0565184 ,  0.07457351, -0.04584028, -0.05134234, -0.04478428,\n",
       "         0.06935502,  0.03721925, -0.01977153, -0.01820631,  0.01183162,\n",
       "        -0.05205646,  0.002169  , -0.05675595,  0.04546696, -0.03300607,\n",
       "        -0.04463911, -0.02610028,  0.05520421, -0.01860734, -0.01206825,\n",
       "        -0.00918316,  0.00333627,  0.02364406, -0.04882128,  0.04120915,\n",
       "         0.01697759,  0.0588963 ,  0.01282863, -0.05694524, -0.03297413,\n",
       "         0.06331239,  0.01320851,  0.02051627,  0.00749766,  0.02027141]])"
      ]
     },
     "execution_count": 120,
     "metadata": {},
     "output_type": "execute_result"
    }
   ],
   "source": [
    "delta_hidden"
   ]
  },
  {
   "cell_type": "code",
   "execution_count": 114,
   "metadata": {},
   "outputs": [],
   "source": [
    "# error += np.sum(delta_output)\n",
    "correct_count = 0\n",
    "correct_count += int(output_layer.argmax() == result_data.argmax())"
   ]
  },
  {
   "cell_type": "code",
   "execution_count": 115,
   "metadata": {},
   "outputs": [],
   "source": [
    "delta_weight_output = hidden_layer.T.dot(delta_output)\n",
    "delta_weight_hidden = input_layer.T.dot(delta_hidden)"
   ]
  },
  {
   "cell_type": "code",
   "execution_count": 69,
   "metadata": {},
   "outputs": [],
   "source": [
    "alpha = 0.01"
   ]
  },
  {
   "cell_type": "code",
   "execution_count": 116,
   "metadata": {},
   "outputs": [],
   "source": [
    "weights_1_2 -= delta_weight_output * alpha\n",
    "weights_0_1 -= delta_weight_hidden * alpha"
   ]
  },
  {
   "cell_type": "code",
   "execution_count": 117,
   "metadata": {},
   "outputs": [
    {
     "data": {
      "text/plain": [
       "0"
      ]
     },
     "execution_count": 117,
     "metadata": {},
     "output_type": "execute_result"
    }
   ],
   "source": [
    "correct_count"
   ]
  },
  {
   "cell_type": "code",
   "execution_count": null,
   "metadata": {},
   "outputs": [
    {
     "name": "stdout",
     "output_type": "stream",
     "text": [
      "Error: 60000.605186836474. Correct 5923\n",
      "Error: 60000.60430181792. Correct 5923\n",
      "Error: 60000.603251952925. Correct 5923\n",
      "Error: 60000.601789445725. Correct 5923\n",
      "Error: 60000.59969677874. Correct 5923\n",
      "Error: 60000.59678178527. Correct 5923\n",
      "Error: 60000.59287390428. Correct 5924\n",
      "Error: 60000.58782135887. Correct 5924\n",
      "Error: 60000.58148905576. Correct 5924\n",
      "Error: 60000.573757044396. Correct 5924\n",
      "Error: 60000.56451940506. Correct 5924\n",
      "Error: 60000.553683459344. Correct 5924\n",
      "Error: 60000.5411692149. Correct 5924\n",
      "Error: 60000.52690897246. Correct 5924\n",
      "Error: 60000.510993666794. Correct 5924\n",
      "Error: 60000.504371530915. Correct 5924\n",
      "Error: 60000.493074472775. Correct 5924\n",
      "Error: 60000.47676141222. Correct 5924\n",
      "Error: 60000.45506974603. Correct 5924\n",
      "Error: 60000.42762014454. Correct 5924\n",
      "Error: 60000.3940262992. Correct 5924\n",
      "Error: 60000.35390993491. Correct 5924\n",
      "Error: 60000.30692113139. Correct 5924\n",
      "Error: 60000.25407951683. Correct 5925\n",
      "Error: 60000.21123715308. Correct 5928\n",
      "Error: 60000.2520310499. Correct 5930\n",
      "Error: 60000.07879293743. Correct 5935\n",
      "Error: 59997.9753834704. Correct 5951\n",
      "Error: 63410.934679687576. Correct 9234\n",
      "Error: 65418.00409183536. Correct 11787\n",
      "Error: 65184.791488859475. Correct 11816\n",
      "Error: 65845.97685883638. Correct 15513\n",
      "Error: 60642.380223491506. Correct 18331\n",
      "Error: 60567.8434960262. Correct 18336\n",
      "Error: 60560.23536360774. Correct 18351\n"
     ]
    }
   ],
   "source": [
    "#run in loop for all inputs\n",
    "alpha = 0.01\n",
    "for x in range(iterations):\n",
    "    error = 0\n",
    "    correct_count = 0\n",
    "    for i in range(len(images)):\n",
    "        input_data = images[i:i+1]\n",
    "        result_data = labels[i:i+1]\n",
    "        \n",
    "        input_layer =  input_data\n",
    "        hidden_layer = relu(input_layer.dot(weights_0_1))\n",
    "        output_layer = hidden_layer.dot(weights_1_2)\n",
    "\n",
    "        delta_output = output_layer - result_data\n",
    "        delta_hidden = delta_output.dot(weights_1_2.T) * relu2deriv(hidden_layer)\n",
    "        \n",
    "        error += np.sum(np.absolute(delta_output))\n",
    "        correct_count += int(output_layer.argmax() == result_data.argmax())\n",
    "        \n",
    "        delta_weight_output = hidden_layer.T.dot(delta_output)\n",
    "        delta_weight_hidden = input_layer.T.dot(delta_hidden)\n",
    "        \n",
    "        weights_1_2 -= delta_weight_output * alpha\n",
    "        weights_0_1 -= delta_weight_hidden * alpha\n",
    "        \n",
    "    print(\"Error: {}. Correct {}\".format(error, correct_count))"
   ]
  },
  {
   "cell_type": "code",
   "execution_count": null,
   "metadata": {},
   "outputs": [],
   "source": [
    "input_layer.dot(weights_0_1)"
   ]
  }
 ],
 "metadata": {
  "kernelspec": {
   "display_name": "Python 3",
   "language": "python",
   "name": "python3"
  },
  "language_info": {
   "codemirror_mode": {
    "name": "ipython",
    "version": 3
   },
   "file_extension": ".py",
   "mimetype": "text/x-python",
   "name": "python",
   "nbconvert_exporter": "python",
   "pygments_lexer": "ipython3",
   "version": "3.6.1"
  }
 },
 "nbformat": 4,
 "nbformat_minor": 2
}
